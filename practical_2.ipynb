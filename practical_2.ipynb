{
  "nbformat": 4,
  "nbformat_minor": 0,
  "metadata": {
    "colab": {
      "provenance": []
    },
    "kernelspec": {
      "name": "python3",
      "display_name": "Python 3"
    },
    "language_info": {
      "name": "python"
    }
  },
  "cells": [
    {
      "cell_type": "markdown",
      "source": [
        "# QUESTION 2:\n",
        "\n",
        "Apply data pre-processing techniques such as standardization/normalization, transformation, aggregation, discretization/binarization, sampling etc. on any dataset"
      ],
      "metadata": {
        "id": "PcmPIOvrSZNT"
      }
    },
    {
      "cell_type": "code",
      "execution_count": null,
      "metadata": {
        "id": "1m1OSEQ-Z3Bz",
        "colab": {
          "base_uri": "https://localhost:8080/"
        },
        "outputId": "2b995e41-155c-4ad5-a840-3c8fa1111756"
      },
      "outputs": [
        {
          "output_type": "stream",
          "name": "stdout",
          "text": [
            "Original Dataset:\n",
            "dimension:  (100, 2)\n",
            "   Age  Income\n",
            "0   64   91331\n",
            "1   67   70624\n",
            "2   20   60133\n",
            "3   23   75153\n",
            "4   23   82756\n"
          ]
        }
      ],
      "source": [
        "import numpy as np\n",
        "import pandas as pd\n",
        "\n",
        "# Create a sample dataset\n",
        "np.random.seed(0)\n",
        "data = {'Age': np.random.randint(20, 70, size=100),\n",
        "      'Income': np.random.randint (20000, 100000, size=100)}\n",
        "\n",
        "df = pd.DataFrame(data)\n",
        "print(\"Original Dataset:\")\n",
        "print(\"dimension: \", df.shape)\n",
        "print(df.head())"
      ]
    },
    {
      "cell_type": "markdown",
      "source": [
        "# Standardization and Normalization"
      ],
      "metadata": {
        "id": "2gnWnoAMWxeC"
      }
    },
    {
      "cell_type": "code",
      "source": [
        "from sklearn.preprocessing import StandardScaler\n",
        "scaler = StandardScaler()\n",
        "df_standardized = scaler.fit_transform(df)\n",
        "df_standardized = pd.DataFrame (df_standardized, columns=df.columns)\n",
        "print(\"Standardized Dataset\")\n",
        "print(df_standardized.head())"
      ],
      "metadata": {
        "colab": {
          "base_uri": "https://localhost:8080/"
        },
        "id": "TUPFlnPDTsFT",
        "outputId": "c5d14fe0-882e-4a09-f6bc-f70ba09c2a80"
      },
      "execution_count": null,
      "outputs": [
        {
          "output_type": "stream",
          "name": "stdout",
          "text": [
            "Standardized Dataset\n",
            "        Age    Income\n",
            "0  1.464076  1.249772\n",
            "1  1.668366  0.397580\n",
            "2 -1.532173 -0.034175\n",
            "3 -1.327883  0.583970\n",
            "4 -1.327883  0.896870\n"
          ]
        }
      ]
    },
    {
      "cell_type": "code",
      "source": [
        "from sklearn.preprocessing import MinMaxScaler\n",
        "scaler = MinMaxScaler()\n",
        "df_normalized = scaler.fit_transform(df)\n",
        "df_normalized = pd.DataFrame (df_normalized, columns=df.columns)\n",
        "print(\"Normalized Dataset\")\n",
        "print(df_normalized.head())"
      ],
      "metadata": {
        "colab": {
          "base_uri": "https://localhost:8080/"
        },
        "id": "RT0jatA6UQ8S",
        "outputId": "80de81e9-8794-4b9b-9fff-3c347b2f51f0"
      },
      "execution_count": null,
      "outputs": [
        {
          "output_type": "stream",
          "name": "stdout",
          "text": [
            "Normalized Dataset\n",
            "        Age    Income\n",
            "0  0.897959  0.891189\n",
            "1  0.959184  0.630769\n",
            "2  0.000000  0.498830\n",
            "3  0.061224  0.687728\n",
            "4  0.061224  0.783346\n"
          ]
        }
      ]
    },
    {
      "cell_type": "code",
      "source": [
        "df_standardized.mean()"
      ],
      "metadata": {
        "colab": {
          "base_uri": "https://localhost:8080/",
          "height": 147
        },
        "id": "Akqcbr54VYEa",
        "outputId": "81e11d6b-aba7-4bb6-d1ba-27c0673b5722"
      },
      "execution_count": null,
      "outputs": [
        {
          "output_type": "execute_result",
          "data": {
            "text/plain": [
              "Age       1.110223e-17\n",
              "Income   -1.110223e-16\n",
              "dtype: float64"
            ],
            "text/html": [
              "<div>\n",
              "<style scoped>\n",
              "    .dataframe tbody tr th:only-of-type {\n",
              "        vertical-align: middle;\n",
              "    }\n",
              "\n",
              "    .dataframe tbody tr th {\n",
              "        vertical-align: top;\n",
              "    }\n",
              "\n",
              "    .dataframe thead th {\n",
              "        text-align: right;\n",
              "    }\n",
              "</style>\n",
              "<table border=\"1\" class=\"dataframe\">\n",
              "  <thead>\n",
              "    <tr style=\"text-align: right;\">\n",
              "      <th></th>\n",
              "      <th>0</th>\n",
              "    </tr>\n",
              "  </thead>\n",
              "  <tbody>\n",
              "    <tr>\n",
              "      <th>Age</th>\n",
              "      <td>1.110223e-17</td>\n",
              "    </tr>\n",
              "    <tr>\n",
              "      <th>Income</th>\n",
              "      <td>-1.110223e-16</td>\n",
              "    </tr>\n",
              "  </tbody>\n",
              "</table>\n",
              "</div><br><label><b>dtype:</b> float64</label>"
            ]
          },
          "metadata": {},
          "execution_count": 19
        }
      ]
    },
    {
      "cell_type": "code",
      "source": [
        "df_standardized.std()"
      ],
      "metadata": {
        "colab": {
          "base_uri": "https://localhost:8080/",
          "height": 147
        },
        "id": "q8kIH4MEVg_6",
        "outputId": "fccc1bc7-8b40-49cc-fc75-97425f20d88a"
      },
      "execution_count": null,
      "outputs": [
        {
          "output_type": "execute_result",
          "data": {
            "text/plain": [
              "Age       1.005038\n",
              "Income    1.005038\n",
              "dtype: float64"
            ],
            "text/html": [
              "<div>\n",
              "<style scoped>\n",
              "    .dataframe tbody tr th:only-of-type {\n",
              "        vertical-align: middle;\n",
              "    }\n",
              "\n",
              "    .dataframe tbody tr th {\n",
              "        vertical-align: top;\n",
              "    }\n",
              "\n",
              "    .dataframe thead th {\n",
              "        text-align: right;\n",
              "    }\n",
              "</style>\n",
              "<table border=\"1\" class=\"dataframe\">\n",
              "  <thead>\n",
              "    <tr style=\"text-align: right;\">\n",
              "      <th></th>\n",
              "      <th>0</th>\n",
              "    </tr>\n",
              "  </thead>\n",
              "  <tbody>\n",
              "    <tr>\n",
              "      <th>Age</th>\n",
              "      <td>1.005038</td>\n",
              "    </tr>\n",
              "    <tr>\n",
              "      <th>Income</th>\n",
              "      <td>1.005038</td>\n",
              "    </tr>\n",
              "  </tbody>\n",
              "</table>\n",
              "</div><br><label><b>dtype:</b> float64</label>"
            ]
          },
          "metadata": {},
          "execution_count": 20
        }
      ]
    },
    {
      "cell_type": "markdown",
      "source": [
        "## logarithmic transformation of Income"
      ],
      "metadata": {
        "id": "CBxMTRckWqpq"
      }
    },
    {
      "cell_type": "code",
      "source": [
        "#Transformation (Logarithmic)\n",
        "df_transformed = df.copy()\n",
        "df_transformed['Income'] = np.log(df_transformed['Income'])\n",
        "print(\"Transformed Dataset:\")\n",
        "print(df_transformed.head())"
      ],
      "metadata": {
        "colab": {
          "base_uri": "https://localhost:8080/"
        },
        "id": "h_ldJuy1VmMK",
        "outputId": "66d283b3-e8fa-49b0-d5d0-b8e8aaca9419"
      },
      "execution_count": null,
      "outputs": [
        {
          "output_type": "stream",
          "name": "stdout",
          "text": [
            "Transformed Dataset:\n",
            "   Age     Income\n",
            "0   64  11.422246\n",
            "1   67  11.165125\n",
            "2   20  11.004314\n",
            "3   23  11.227281\n",
            "4   23  11.323652\n"
          ]
        }
      ]
    },
    {
      "cell_type": "markdown",
      "source": [
        "## Aggregate the data based on age"
      ],
      "metadata": {
        "id": "wKRK67DkWUvq"
      }
    },
    {
      "cell_type": "code",
      "source": [
        "df_aggregated = df.groupby('Age').mean().reset_index()\n",
        "print(\"Aggregated Dataset:\")\n",
        "print(df_aggregated.head())"
      ],
      "metadata": {
        "colab": {
          "base_uri": "https://localhost:8080/"
        },
        "id": "ZR3rmPqvV70x",
        "outputId": "cfe5b67d-cc3f-4c04-b5ff-2ad8821d4409"
      },
      "execution_count": null,
      "outputs": [
        {
          "output_type": "stream",
          "name": "stdout",
          "text": [
            "Aggregated Dataset:\n",
            "   Age        Income\n",
            "0   20  50257.600000\n",
            "1   21  65422.750000\n",
            "2   23  77726.333333\n",
            "3   24  58175.000000\n",
            "4   25  68134.000000\n"
          ]
        }
      ]
    },
    {
      "cell_type": "markdown",
      "source": [
        "## Discretization and Binarization"
      ],
      "metadata": {
        "id": "0WhD8HzGXDZ6"
      }
    },
    {
      "cell_type": "code",
      "source": [
        "bins = [0, 30, 50, np.inf]\n",
        "labels = ['Young', 'Adult', 'Elderly']\n",
        "df_discretized = df.copy()\n",
        "df_discretized['Age_Group'] = pd.cut(df_discretized['Age'], bins=bins, labels=labels)\n",
        "print(\"Discretized Dataset:\")\n",
        "print(df_discretized.head())"
      ],
      "metadata": {
        "colab": {
          "base_uri": "https://localhost:8080/"
        },
        "id": "AMsNr5BhW4ir",
        "outputId": "07e3a5c6-4411-44d3-c0b2-e2c470d51244"
      },
      "execution_count": null,
      "outputs": [
        {
          "output_type": "stream",
          "name": "stdout",
          "text": [
            "Discretized Dataset:\n",
            "   Age  Income Age_Group\n",
            "0   64   91331   Elderly\n",
            "1   67   70624   Elderly\n",
            "2   20   60133     Young\n",
            "3   23   75153     Young\n",
            "4   23   82756     Young\n"
          ]
        }
      ]
    },
    {
      "cell_type": "code",
      "source": [
        "from sklearn.preprocessing import Binarizer\n",
        "# Threshold for binarization\n",
        "threshold = 30\n",
        "binarizer = Binarizer (threshold=threshold)\n",
        "df_binarized = binarizer.fit_transform(df[['Age']])\n",
        "df_binarized = pd.DataFrame (df_binarized, columns=['Binarized_Age'])\n",
        "df_binarized = pd.concat([df, df_binarized], axis=1)\n",
        "print(\"Binarized Dataset:\")\n",
        "print(df_binarized.head())"
      ],
      "metadata": {
        "colab": {
          "base_uri": "https://localhost:8080/"
        },
        "id": "pDamrXD3Xk2x",
        "outputId": "080d3a06-57be-4378-d513-e70db6461c2e"
      },
      "execution_count": null,
      "outputs": [
        {
          "output_type": "stream",
          "name": "stdout",
          "text": [
            "Binarized Dataset:\n",
            "   Age  Income  Binarized_Age\n",
            "0   64   91331              1\n",
            "1   67   70624              1\n",
            "2   20   60133              0\n",
            "3   23   75153              0\n",
            "4   23   82756              0\n"
          ]
        }
      ]
    },
    {
      "cell_type": "markdown",
      "source": [
        "## Random Sampling"
      ],
      "metadata": {
        "id": "02tO__vYYyya"
      }
    },
    {
      "cell_type": "code",
      "source": [
        "df_sampled = df.sample(frac=0.1, random_state=1)\n",
        "print(\"Sampled Dataset\")\n",
        "print(df_sampled)"
      ],
      "metadata": {
        "colab": {
          "base_uri": "https://localhost:8080/"
        },
        "id": "r9FJRZeFY1Y5",
        "outputId": "bd59ce93-e79c-4fce-b9c7-66e10164dbac"
      },
      "execution_count": null,
      "outputs": [
        {
          "output_type": "stream",
          "name": "stdout",
          "text": [
            "Sampled Dataset\n",
            "    Age  Income\n",
            "80   40   35741\n",
            "84   24   55050\n",
            "33   38   99128\n",
            "81   31   77368\n",
            "93   55   99464\n",
            "17   59   76894\n",
            "36   69   38728\n",
            "82   24   63986\n",
            "69   55   94253\n",
            "65   21   80155\n"
          ]
        }
      ]
    }
  ]
}