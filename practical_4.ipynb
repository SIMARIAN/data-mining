{
  "nbformat": 4,
  "nbformat_minor": 0,
  "metadata": {
    "colab": {
      "provenance": []
    },
    "kernelspec": {
      "name": "python3",
      "display_name": "Python 3"
    },
    "language_info": {
      "name": "python"
    }
  },
  "cells": [
    {
      "cell_type": "markdown",
      "source": [
        "# QUESTION 4\n",
        "\n",
        "Use Naive bayes, K-nearest, and Decision tree classification algorithms to build classifiers on any two datasets. Pre-process the datasets using techniques specified in Q2. Compare the Accuracy, Precision, Recall and F1 measure reported for each dataset using the above mentioned classifiers under the following situations:\n",
        "\n",
        "1.   Using Holdout method (Random sampling):\n",
        "\n",
        "\n",
        "*   Training set = 80% Test set = 20%\n",
        "*   Training set = 66.6% (2/3rd of total), Test set = 33.3%\n",
        "\n",
        "\n",
        "2.   Using Cross-Validation:\n",
        "\n",
        "\n",
        "*   10-fold\n",
        "*   5-fold\n"
      ],
      "metadata": {
        "id": "xjbYIkqoT88i"
      }
    },
    {
      "cell_type": "code",
      "execution_count": null,
      "metadata": {
        "id": "NXBcdSUD6H-Y"
      },
      "outputs": [],
      "source": [
        "import numpy as np\n",
        "import pandas as pd\n",
        "from sklearn.datasets import load_iris\n",
        "from sklearn.model_selection import train_test_split\n",
        "from sklearn.metrics import classification_report\n",
        "from sklearn.metrics import accuracy_score, confusion_matrix\n",
        "\n",
        "# Load the iris dataset\n",
        "iris = load_iris()\n",
        "X = iris.data\n",
        "y = iris.target\n",
        "\n",
        "# Hold-out method (80% train, 20% test)\n",
        "X_train, X_test, y_train, y_test = train_test_split(X, y,\n",
        "                                                    test_size=0.2,\n",
        "                                                    random_state=1)"
      ]
    },
    {
      "cell_type": "markdown",
      "source": [
        "# Naive Bayes Classifier"
      ],
      "metadata": {
        "id": "Pby1FBpQP0qc"
      }
    },
    {
      "cell_type": "code",
      "source": [
        "from sklearn.naive_bayes import GaussianNB\n",
        "gnb = GaussianNB()\n",
        "prediction_nb = gnb.fit(X_train, y_train).predict(X_test)\n",
        "\n",
        "print(\"Naive Bayes Predictions:\", prediction_nb)\n",
        "print(\"Accuracy on the Test Data:\")\n",
        "print(accuracy_score(y_test, prediction_nb))\n",
        "print(\"Classification Report:\")\n",
        "print(classification_report(y_test, prediction_nb))\n",
        "print(\"\\nConfusion Matrix:\")\n",
        "print(confusion_matrix(y_test, prediction_nb))"
      ],
      "metadata": {
        "colab": {
          "base_uri": "https://localhost:8080/"
        },
        "id": "z8tVM7gRMu-c",
        "outputId": "612cb5b7-e83b-46fb-dfc3-a2ce6c8e5cc0"
      },
      "execution_count": null,
      "outputs": [
        {
          "output_type": "stream",
          "name": "stdout",
          "text": [
            "Naive Bayes Predictions: [0 1 1 0 2 1 2 0 0 2 1 0 2 1 1 0 1 1 0 0 1 1 2 0 2 1 0 0 1 2]\n",
            "Accuracy on the Test Data:\n",
            "0.9666666666666667\n",
            "Classification Report:\n",
            "              precision    recall  f1-score   support\n",
            "\n",
            "           0       1.00      1.00      1.00        11\n",
            "           1       1.00      0.92      0.96        13\n",
            "           2       0.86      1.00      0.92         6\n",
            "\n",
            "    accuracy                           0.97        30\n",
            "   macro avg       0.95      0.97      0.96        30\n",
            "weighted avg       0.97      0.97      0.97        30\n",
            "\n",
            "\n",
            "Confusion Matrix:\n",
            "[[11  0  0]\n",
            " [ 0 12  1]\n",
            " [ 0  0  6]]\n"
          ]
        }
      ]
    },
    {
      "cell_type": "markdown",
      "source": [
        "# K-Nearest Neighbors Classifier"
      ],
      "metadata": {
        "id": "0Q22MNKLP5Pv"
      }
    },
    {
      "cell_type": "code",
      "source": [
        "from sklearn.neighbors import KNeighborsClassifier\n",
        "knn = KNeighborsClassifier()\n",
        "knn.fit(X_train, y_train)\n",
        "prediction_knn = knn.predict(X_test)\n",
        "\n",
        "print(\"KNN Predictions:\", prediction_knn)\n",
        "print(\"Accuracy on the Test Data (KNN):\")\n",
        "print(accuracy_score(y_test, prediction_knn))\n",
        "print(\"Classification Report (KNN):\")\n",
        "print(classification_report(y_test, prediction_knn))\n",
        "print(\"\\nConfusion Matrix:\")\n",
        "print(confusion_matrix(y_test, prediction_knn))"
      ],
      "metadata": {
        "colab": {
          "base_uri": "https://localhost:8080/"
        },
        "id": "HGcINnpkMxrm",
        "outputId": "b9787ea9-6f29-4a40-b34d-d95b3b1c1b95"
      },
      "execution_count": null,
      "outputs": [
        {
          "output_type": "stream",
          "name": "stdout",
          "text": [
            "KNN Predictions: [0 1 1 0 2 1 2 0 0 2 1 0 2 1 1 0 1 1 0 0 1 1 1 0 2 1 0 0 1 2]\n",
            "Accuracy on the Test Data (KNN):\n",
            "1.0\n",
            "Classification Report (KNN):\n",
            "              precision    recall  f1-score   support\n",
            "\n",
            "           0       1.00      1.00      1.00        11\n",
            "           1       1.00      1.00      1.00        13\n",
            "           2       1.00      1.00      1.00         6\n",
            "\n",
            "    accuracy                           1.00        30\n",
            "   macro avg       1.00      1.00      1.00        30\n",
            "weighted avg       1.00      1.00      1.00        30\n",
            "\n",
            "\n",
            "Confusion Matrix:\n",
            "[[11  0  0]\n",
            " [ 0 13  0]\n",
            " [ 0  0  6]]\n"
          ]
        }
      ]
    },
    {
      "cell_type": "markdown",
      "source": [
        "# Decision Tree Classifier"
      ],
      "metadata": {
        "id": "IOSqpikLQAjM"
      }
    },
    {
      "cell_type": "code",
      "source": [
        "from sklearn.tree import DecisionTreeClassifier\n",
        "import matplotlib.pyplot as plt\n",
        "from sklearn import tree\n",
        "deci_tree = DecisionTreeClassifier()\n",
        "deci_tree.fit(X_train, y_train)\n",
        "prediction_deci = deci_tree.predict(X_test)\n",
        "\n",
        "print(\"Decision Tree Predictions:\", prediction_deci)\n",
        "print(\"Accuracy on the Test Data (Decision Tree):\")\n",
        "print(accuracy_score(y_test, prediction_deci))\n",
        "print(\"Classification Report (Decision Tree):\")\n",
        "print(classification_report(y_test, prediction_deci))\n",
        "print(\"\\nConfusion Matrix:\")\n",
        "print(confusion_matrix(y_test, prediction_deci))\n",
        "print()\n",
        "tree.plot_tree(deci_tree);"
      ],
      "metadata": {
        "colab": {
          "base_uri": "https://localhost:8080/",
          "height": 753
        },
        "id": "4Z4kODSiMyX0",
        "outputId": "904a2f59-cc10-414b-998c-3653b355c70e"
      },
      "execution_count": null,
      "outputs": [
        {
          "output_type": "stream",
          "name": "stdout",
          "text": [
            "Decision Tree Predictions: [0 1 1 0 2 1 2 0 0 2 1 0 2 1 1 0 1 1 0 0 1 1 2 0 2 1 0 0 1 2]\n",
            "Accuracy on the Test Data (Decision Tree):\n",
            "0.9666666666666667\n",
            "Classification Report (Decision Tree):\n",
            "              precision    recall  f1-score   support\n",
            "\n",
            "           0       1.00      1.00      1.00        11\n",
            "           1       1.00      0.92      0.96        13\n",
            "           2       0.86      1.00      0.92         6\n",
            "\n",
            "    accuracy                           0.97        30\n",
            "   macro avg       0.95      0.97      0.96        30\n",
            "weighted avg       0.97      0.97      0.97        30\n",
            "\n",
            "\n",
            "Confusion Matrix:\n",
            "[[11  0  0]\n",
            " [ 0 12  1]\n",
            " [ 0  0  6]]\n",
            "\n"
          ]
        },
        {
          "output_type": "display_data",
          "data": {
            "text/plain": [
              "<Figure size 640x480 with 1 Axes>"
            ],
            "image/png": "[encoded data removed]"
          },
          "metadata": {}
        }
      ]
    },
    {
      "cell_type": "markdown",
      "source": [
        "# Comparisons"
      ],
      "metadata": {
        "id": "aqXwvXKmPyI1"
      }
    },
    {
      "cell_type": "code",
      "source": [
        "acc_nb = accuracy_score(y_test, prediction_nb)\n",
        "acc_knn = accuracy_score(y_test, prediction_knn)\n",
        "acc_dt = accuracy_score(y_test, prediction_deci)\n",
        "\n",
        "report_nb = classification_report(y_test,\n",
        "                                  prediction_nb,\n",
        "                                  output_dict=True)\n",
        "report_knn = classification_report(y_test,\n",
        "                                   prediction_knn,\n",
        "                                   output_dict=True)\n",
        "report_dt = classification_report(y_test,\n",
        "                                  prediction_deci,\n",
        "                                  output_dict=True)\n",
        "\n",
        "# Convert reports to DataFrames\n",
        "df_nb = pd.DataFrame(report_nb).transpose()\n",
        "df_knn = pd.DataFrame(report_knn).transpose()\n",
        "df_dt = pd.DataFrame(report_dt).transpose()\n",
        "\n",
        "# Select metrics and rename columns\n",
        "nb_metrics = df_nb[['precision', 'recall', 'f1-score']].rename(columns=\n",
        "                                                               lambda x:\n",
        "                                                               f\"NB_{x}\")\n",
        "knn_metrics = df_knn[['precision', 'recall', 'f1-score']].rename(columns=\n",
        "                                                                 lambda x:\n",
        "                                                                 f\"KNN_{x}\")\n",
        "dt_metrics = df_dt[['precision', 'recall', 'f1-score']].rename(columns=\n",
        "                                                               lambda x:\n",
        "                                                               f\"DT_{x}\")\n",
        "\n",
        "comparison_df = nb_metrics.join(knn_metrics).join(dt_metrics)\n",
        "comparison_df.loc['accuracy'] = [\n",
        "    acc_nb, acc_nb, acc_nb,\n",
        "    acc_knn, acc_knn, acc_knn,\n",
        "    acc_dt, acc_dt, acc_dt\n",
        "]\n",
        "\n",
        "print(comparison_df.round(2).to_string(line_width=10000))"
      ],
      "metadata": {
        "colab": {
          "base_uri": "https://localhost:8080/"
        },
        "id": "Czn7jkExM0zY",
        "outputId": "13d8d0d8-789b-460a-8fb0-7b5caa37bd2e"
      },
      "execution_count": null,
      "outputs": [
        {
          "output_type": "stream",
          "name": "stdout",
          "text": [
            "              NB_precision  NB_recall  NB_f1-score  KNN_precision  KNN_recall  KNN_f1-score  DT_precision  DT_recall  DT_f1-score\n",
            "0                     1.00       1.00         1.00            1.0         1.0           1.0          1.00       1.00         1.00\n",
            "1                     1.00       0.92         0.96            1.0         1.0           1.0          1.00       0.92         0.96\n",
            "2                     0.86       1.00         0.92            1.0         1.0           1.0          0.86       1.00         0.92\n",
            "accuracy              0.97       0.97         0.97            1.0         1.0           1.0          0.97       0.97         0.97\n",
            "macro avg             0.95       0.97         0.96            1.0         1.0           1.0          0.95       0.97         0.96\n",
            "weighted avg          0.97       0.97         0.97            1.0         1.0           1.0          0.97       0.97         0.97\n"
          ]
        }
      ]
    },
    {
      "cell_type": "code",
      "source": [
        "import numpy as np\n",
        "from sklearn.datasets import load_iris\n",
        "from sklearn.model_selection import train_test_split\n",
        "from sklearn.metrics import classification_report, accuracy_score\n",
        "from sklearn.naive_bayes import GaussianNB\n",
        "from sklearn.neighbors import KNeighborsClassifier\n",
        "from sklearn.tree import DecisionTreeClassifier\n",
        "import matplotlib.pyplot as plt\n",
        "from sklearn import tree\n",
        "\n",
        "# Load the iris dataset\n",
        "iris = load_iris()\n",
        "X = iris.data\n",
        "y = iris.target\n",
        "\n",
        "# Hold-out method (66.6% train, 33.3% test)\n",
        "X_train, X_test, y_train, y_test = train_test_split(X, y,\n",
        "                                                    test_size=1/3,\n",
        "                                                    random_state=1)\n",
        "\n",
        "# Naive Bayes Classifier\n",
        "gnb = GaussianNB()\n",
        "prediction_nb = gnb.fit(X_train, y_train).predict(X_test)\n",
        "print(\"Naive Bayes Predictions:\", prediction_nb)\n",
        "print(\"Accuracy on the Test Data (Naive Bayes):\")\n",
        "print(accuracy_score(y_test, prediction_nb))\n",
        "print(\"Classification Report (Naive Bayes):\")\n",
        "print(classification_report(y_test, prediction_nb))\n",
        "print()\n",
        "\n",
        "# K-Nearest Neighbors Classifier\n",
        "knn = KNeighborsClassifier()\n",
        "knn.fit(X_train, y_train)\n",
        "prediction_knn = knn.predict(X_test)\n",
        "print(\"KNN Predictions:\", prediction_knn)\n",
        "print(\"Accuracy on the Test Data (KNN):\")\n",
        "print(accuracy_score(y_test, prediction_knn))\n",
        "print(\"Classification Report (KNN):\")\n",
        "print(classification_report(y_test, prediction_knn))\n",
        "print()\n",
        "\n",
        "# Decision Tree Classifier\n",
        "deci_tree = DecisionTreeClassifier()\n",
        "deci_tree.fit(X_train, y_train)\n",
        "prediction_deci = deci_tree.predict(X_test)\n",
        "print(\"Decision Tree Predictions:\", prediction_deci)\n",
        "print(\"Accuracy on the Test Data (Decision Tree):\")\n",
        "print(accuracy_score(y_test, prediction_deci))\n",
        "print(\"Classification Report (Decision Tree):\")\n",
        "print(classification_report(y_test, prediction_deci))\n",
        "print()\n",
        "tree.plot_tree(deci_tree);"
      ],
      "metadata": {
        "colab": {
          "base_uri": "https://localhost:8080/",
          "height": 1000
        },
        "id": "XhteHExcBIl0",
        "outputId": "34a05cd6-3e1b-4315-aafd-acae465b457c"
      },
      "execution_count": null,
      "outputs": [
        {
          "output_type": "stream",
          "name": "stdout",
          "text": [
            "Naive Bayes Predictions: [0 1 1 0 2 2 2 0 0 2 1 0 2 1 1 0 1 1 0 0 1 1 2 0 2 1 0 0 1 2 1 2 1 2 2 0 1\n",
            " 0 1 2 2 0 1 2 1 2 0 0 0 1]\n",
            "Accuracy on the Test Data (Naive Bayes):\n",
            "0.94\n",
            "Classification Report (Naive Bayes):\n",
            "              precision    recall  f1-score   support\n",
            "\n",
            "           0       1.00      1.00      1.00        17\n",
            "           1       0.94      0.89      0.92        19\n",
            "           2       0.87      0.93      0.90        14\n",
            "\n",
            "    accuracy                           0.94        50\n",
            "   macro avg       0.94      0.94      0.94        50\n",
            "weighted avg       0.94      0.94      0.94        50\n",
            "\n",
            "\n",
            "KNN Predictions: [0 1 1 0 2 1 2 0 0 2 1 0 2 1 1 0 1 1 0 0 1 1 1 0 2 1 0 0 1 2 1 2 1 2 2 0 1\n",
            " 0 1 2 2 0 1 2 1 2 0 0 0 1]\n",
            "Accuracy on the Test Data (KNN):\n",
            "0.98\n",
            "Classification Report (KNN):\n",
            "              precision    recall  f1-score   support\n",
            "\n",
            "           0       1.00      1.00      1.00        17\n",
            "           1       0.95      1.00      0.97        19\n",
            "           2       1.00      0.93      0.96        14\n",
            "\n",
            "    accuracy                           0.98        50\n",
            "   macro avg       0.98      0.98      0.98        50\n",
            "weighted avg       0.98      0.98      0.98        50\n",
            "\n",
            "\n",
            "Decision Tree Predictions: [0 1 1 0 2 1 2 0 0 2 1 0 2 1 1 0 1 1 0 0 1 1 2 0 2 1 0 0 1 2 1 2 1 2 2 0 1\n",
            " 0 1 2 2 0 1 2 1 2 0 0 0 1]\n",
            "Accuracy on the Test Data (Decision Tree):\n",
            "0.96\n",
            "Classification Report (Decision Tree):\n",
            "              precision    recall  f1-score   support\n",
            "\n",
            "           0       1.00      1.00      1.00        17\n",
            "           1       0.95      0.95      0.95        19\n",
            "           2       0.93      0.93      0.93        14\n",
            "\n",
            "    accuracy                           0.96        50\n",
            "   macro avg       0.96      0.96      0.96        50\n",
            "weighted avg       0.96      0.96      0.96        50\n",
            "\n",
            "\n"
          ]
        },
        {
          "output_type": "display_data",
          "data": {
            "text/plain": [
              "<Figure size 640x480 with 1 Axes>"
            ],
            "image/png": "[encoded data removed]"
          },
          "metadata": {}
        }
      ]
    },
    {
      "cell_type": "markdown",
      "source": [
        "# Cross Validation"
      ],
      "metadata": {
        "id": "6qUtFYiYQHgi"
      }
    },
    {
      "cell_type": "code",
      "source": [
        "import numpy as np\n",
        "from sklearn.model_selection import KFold\n",
        "from sklearn.datasets import load_iris\n",
        "from sklearn.metrics import classification_report, accuracy_score\n",
        "from sklearn.naive_bayes import GaussianNB\n",
        "from sklearn.neighbors import KNeighborsClassifier\n",
        "from sklearn.tree import DecisionTreeClassifier\n",
        "import matplotlib.pyplot as plt\n",
        "from sklearn import tree\n",
        "\n",
        "# Load the iris dataset\n",
        "iris = load_iris()\n",
        "X = iris.data\n",
        "y = iris.target\n",
        "\n",
        "# Set up 10-fold cross-validation\n",
        "kf = KFold(n_splits=10)\n",
        "\n",
        "# Lists to store results\n",
        "accuracies_nb = []\n",
        "accuracies_knn = []\n",
        "accuracies_dt = []\n",
        "\n",
        "# Perform cross-validation\n",
        "for train, test in kf.split(X):\n",
        "    X_train, X_test = X[train], X[test]\n",
        "    y_train, y_test = y[train], y[test]\n",
        "\n",
        "    # Naive Bayes\n",
        "    gnb = GaussianNB()\n",
        "    prediction_nb = gnb.fit(X_train, y_train).predict(X_test)\n",
        "    accuracies_nb.append(accuracy_score(y_test, prediction_nb))\n",
        "\n",
        "    # K-Nearest Neighbors\n",
        "    knn = KNeighborsClassifier()\n",
        "    knn.fit(X_train, y_train)\n",
        "    prediction_knn = knn.predict(X_test)\n",
        "    accuracies_knn.append(accuracy_score(y_test, prediction_knn))\n",
        "\n",
        "    # Decision Tree\n",
        "    deci_tree = DecisionTreeClassifier()\n",
        "    deci_tree.fit(X_train, y_train)\n",
        "    prediction_deci = deci_tree.predict(X_test)\n",
        "    accuracies_dt.append(accuracy_score(y_test, prediction_deci))\n",
        "\n",
        "# Print average accuracy for each classifier across all folds\n",
        "print(\"Average Accuracy for Naive Bayes:\", np.mean(accuracies_nb))\n",
        "print(\"Average Accuracy for KNN:\", np.mean(accuracies_knn))\n",
        "print(\"Average Accuracy for Decision Tree:\", np.mean(accuracies_dt))"
      ],
      "metadata": {
        "colab": {
          "base_uri": "https://localhost:8080/"
        },
        "id": "nPoHJV__-EiN",
        "outputId": "396240f6-d6ec-49e3-bc0c-2a9b4e596321"
      },
      "execution_count": null,
      "outputs": [
        {
          "output_type": "stream",
          "name": "stdout",
          "text": [
            "Average Accuracy for Naive Bayes: 0.9466666666666667\n",
            "Average Accuracy for KNN: 0.9333333333333333\n",
            "Average Accuracy for Decision Tree: 0.9266666666666665\n"
          ]
        }
      ]
    },
    {
      "cell_type": "code",
      "source": [
        "import numpy as np\n",
        "from sklearn.model_selection import KFold\n",
        "from sklearn.datasets import load_iris\n",
        "from sklearn.metrics import classification_report, accuracy_score\n",
        "from sklearn.naive_bayes import GaussianNB\n",
        "from sklearn.neighbors import KNeighborsClassifier\n",
        "from sklearn.tree import DecisionTreeClassifier\n",
        "import matplotlib.pyplot as plt\n",
        "from sklearn import tree\n",
        "\n",
        "# Load the iris dataset\n",
        "iris = load_iris()\n",
        "X = iris.data\n",
        "y = iris.target\n",
        "\n",
        "# Set up 5-fold cross-validation\n",
        "kf = KFold(n_splits=5)\n",
        "\n",
        "# Lists to store results\n",
        "accuracies_nb = []\n",
        "accuracies_knn = []\n",
        "accuracies_dt = []\n",
        "\n",
        "# Perform cross-validation\n",
        "for train, test in kf.split(X):\n",
        "    X_train, X_test = X[train], X[test]\n",
        "    y_train, y_test = y[train], y[test]\n",
        "\n",
        "    # Naive Bayes\n",
        "    gnb = GaussianNB()\n",
        "    prediction_nb = gnb.fit(X_train, y_train).predict(X_test)\n",
        "    accuracies_nb.append(accuracy_score(y_test, prediction_nb))\n",
        "\n",
        "    # K-Nearest Neighbors\n",
        "    knn = KNeighborsClassifier()\n",
        "    knn.fit(X_train, y_train)\n",
        "    prediction_knn = knn.predict(X_test)\n",
        "    accuracies_knn.append(accuracy_score(y_test, prediction_knn))\n",
        "\n",
        "    # Decision Tree\n",
        "    deci_tree = DecisionTreeClassifier()\n",
        "    deci_tree.fit(X_train, y_train)\n",
        "    prediction_deci = deci_tree.predict(X_test)\n",
        "    accuracies_dt.append(accuracy_score(y_test, prediction_deci))\n",
        "\n",
        "# Print average accuracy for each classifier across all folds\n",
        "print(\"Average Accuracy for Naive Bayes:\", np.mean(accuracies_nb))\n",
        "print(\"Average Accuracy for KNN:\", np.mean(accuracies_knn))\n",
        "print(\"Average Accuracy for Decision Tree:\", np.mean(accuracies_dt))"
      ],
      "metadata": {
        "colab": {
          "base_uri": "https://localhost:8080/"
        },
        "id": "Sb9LE9roDWoo",
        "outputId": "6817510b-f5e8-46cd-cf4f-5a36b0b9b96f"
      },
      "execution_count": null,
      "outputs": [
        {
          "output_type": "stream",
          "name": "stdout",
          "text": [
            "Average Accuracy for Naive Bayes: 0.9466666666666667\n",
            "Average Accuracy for KNN: 0.9133333333333333\n",
            "Average Accuracy for Decision Tree: 0.9199999999999999\n"
          ]
        }
      ]
    }
  ]
}